{
 "cells": [
  {
   "cell_type": "markdown",
   "id": "c1fa94da-0521-49f7-835e-c9b70584ee19",
   "metadata": {},
   "source": [
    "# Some implementation questions\n",
    "* How to set the initialization of weights?\n",
    "* What is the output size of one RNN Cell? I think it is a scalar. "
   ]
  },
  {
   "cell_type": "code",
   "execution_count": 1,
   "id": "60262af3-9f6b-4dd1-9c45-778083ed58dd",
   "metadata": {},
   "outputs": [],
   "source": [
    "import numpy as np\n",
    "\n",
    "class RNNCell:\n",
    "    def __init__(self, input_size:int, units: int, activation_function: str):\n",
    "        self.units = units\n",
    "        self.state_size = self.units\n",
    "        self.output_size = self.units\n",
    "        \n",
    "        self.Wx = np.random.normal(loc=0, scale=1, size=input_size)\n",
    "        self.b = np.random.normal(loc=0, scale=1, size=self.output_size)\n",
    "        self.Wy = np.random.normal(loc=0, scale=1, size=self.output_size)\n",
    "        self.last_y = np.zeros(self.output_size)\n",
    "        if activation_function=='relu':\n",
    "            self.func = lambda x: max(0, x)\n",
    "        elif activation_function=='tanh':\n",
    "            self.func = lambda x: (np.exp(x)-np.exp(-x))/(np.exp(x)+np.exp(-x))\n",
    "        else:\n",
    "            raise NotImplemented(f\"activation_function={activation_function} not yet implemented\")\n",
    "            \n",
    "    def __call__(self, input_vector: np.array)-> np.array:\n",
    "        self.last_y = self.func(np.matmul(np.transpose(self.Wx), input_vector) + np.matmul(np.transpose(self.Wy), self.last_y) + self.b)\n",
    "        return self.last_y"
   ]
  },
  {
   "cell_type": "code",
   "execution_count": 2,
   "id": "65553422-9a9c-448d-931e-266a2eb7ca1a",
   "metadata": {},
   "outputs": [],
   "source": [
    "input_size = 5\n",
    "input_vector = np.ones(input_size)\n",
    "rnn_cell = RNNCell(input_size=input_size, units=3, activation_function='tanh')"
   ]
  },
  {
   "cell_type": "code",
   "execution_count": 3,
   "id": "f731eedc-134c-43e6-a31b-bc78a159afbb",
   "metadata": {},
   "outputs": [
    {
     "data": {
      "text/plain": [
       "array([-0.98718634, -0.99869139, -0.99018282])"
      ]
     },
     "execution_count": 3,
     "metadata": {},
     "output_type": "execute_result"
    }
   ],
   "source": [
    "rnn_cell(input_vector=input_vector)"
   ]
  },
  {
   "cell_type": "code",
   "execution_count": null,
   "id": "a534c4c3-20a5-4464-86eb-dd65fa1375c9",
   "metadata": {},
   "outputs": [],
   "source": []
  }
 ],
 "metadata": {
  "kernelspec": {
   "display_name": "Python 3 (ipykernel)",
   "language": "python",
   "name": "python3"
  },
  "language_info": {
   "codemirror_mode": {
    "name": "ipython",
    "version": 3
   },
   "file_extension": ".py",
   "mimetype": "text/x-python",
   "name": "python",
   "nbconvert_exporter": "python",
   "pygments_lexer": "ipython3",
   "version": "3.11.5"
  }
 },
 "nbformat": 4,
 "nbformat_minor": 5
}
