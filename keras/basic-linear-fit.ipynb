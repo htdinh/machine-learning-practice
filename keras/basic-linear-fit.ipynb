{
 "cells": [
  {
   "cell_type": "markdown",
   "id": "1a12e0c7",
   "metadata": {},
   "source": [
    "# Learning\n",
    "* Each model needs `compile` step, where optimizer and loss function are given. \n",
    "* `np.array()` would infer the data type, if not given `dtype=float` at time of declaration\n",
    "* At `model.fit()` step, if there is no number of epochs given, the default value is `epochs=1`.\n",
    "    - Also set validation data and validation step. All-in-one. \n",
    "    - How to set the `batch`? Answer: as input to `fit()` method, set `batch_size`. \n",
    "* Role of `units` in this single layer linear function? If this is set to `n>1`, there are corresponding `n` output heads. Maybe there is already a step, where the output at `y` is replicated to match the number of output units in the layer. But anyway this is not a typical layer. We can skip this and check in another full stack of layers. \n",
    "* `model.predict()` accepts a list of input vectors and return list of output vector accordingly\n",
    "* `model.get_layer(layer_name)` then `layer.get_weights()`"
   ]
  },
  {
   "cell_type": "code",
   "execution_count": 1,
   "id": "551e89f3",
   "metadata": {},
   "outputs": [
    {
     "name": "stdout",
     "output_type": "stream",
     "text": [
      "3.6.13\n"
     ]
    }
   ],
   "source": [
    "import platform\n",
    "print(platform.python_version())"
   ]
  },
  {
   "cell_type": "code",
   "execution_count": 2,
   "id": "3de52506",
   "metadata": {},
   "outputs": [
    {
     "name": "stdout",
     "output_type": "stream",
     "text": [
      "/Users/D071576/opt/anaconda3/envs/tf2/bin/python\n"
     ]
    }
   ],
   "source": [
    "import sys\n",
    "print(sys.executable)"
   ]
  },
  {
   "cell_type": "code",
   "execution_count": 3,
   "id": "bd5731c5",
   "metadata": {},
   "outputs": [
    {
     "data": {
      "text/plain": [
       "'2.4.1'"
      ]
     },
     "execution_count": 3,
     "metadata": {},
     "output_type": "execute_result"
    }
   ],
   "source": [
    "import tensorflow as tf\n",
    "tf.__version__"
   ]
  },
  {
   "cell_type": "code",
   "execution_count": 4,
   "id": "8b510479",
   "metadata": {},
   "outputs": [],
   "source": [
    "import numpy as np"
   ]
  },
  {
   "cell_type": "code",
   "execution_count": 5,
   "id": "3583c02d",
   "metadata": {},
   "outputs": [],
   "source": [
    "x = np.array([1, 2, 3, 4, 5, 6])  # If not given dtype, default value is int64. This still works. \n",
    "y = np.array([3, 5, 6.7, 8.8, 11.1, 13.2], dtype=float)  # If not given dtype, it will infer to be float\n",
    "# almost y = 1 + 2*x"
   ]
  },
  {
   "cell_type": "code",
   "execution_count": 6,
   "id": "23c5e480",
   "metadata": {},
   "outputs": [
    {
     "data": {
      "text/plain": [
       "(dtype('int64'), dtype('float64'))"
      ]
     },
     "execution_count": 6,
     "metadata": {},
     "output_type": "execute_result"
    }
   ],
   "source": [
    "x.dtype, y.dtype"
   ]
  },
  {
   "cell_type": "code",
   "execution_count": 7,
   "id": "eaf50e58",
   "metadata": {},
   "outputs": [],
   "source": [
    "# Input shape 1 because each element in the x array is of dimension 1 (scalar)\n",
    "# Activation = None to have a linear model\n",
    "model = tf.keras.Sequential([tf.keras.layers.Dense(units=1, activation=None, input_shape=[1], name='single-layer')])\n",
    "\n",
    "model.compile(optimizer='sgd', loss='mean_squared_error')"
   ]
  },
  {
   "cell_type": "code",
   "execution_count": 8,
   "id": "b696c09b",
   "metadata": {},
   "outputs": [
    {
     "name": "stdout",
     "output_type": "stream",
     "text": [
      "Epoch 1/50\n",
      "3/3 [==============================] - 0s 971us/step - loss: 27.2522\n",
      "Epoch 2/50\n",
      "3/3 [==============================] - 0s 835us/step - loss: 2.9632\n",
      "Epoch 3/50\n",
      "3/3 [==============================] - 0s 1ms/step - loss: 0.2183\n",
      "Epoch 4/50\n",
      "3/3 [==============================] - 0s 882us/step - loss: 0.1369\n",
      "Epoch 5/50\n",
      "3/3 [==============================] - 0s 1ms/step - loss: 0.0563\n",
      "Epoch 6/50\n",
      "3/3 [==============================] - 0s 1ms/step - loss: 0.0655\n",
      "Epoch 7/50\n",
      "3/3 [==============================] - 0s 1ms/step - loss: 0.0403\n",
      "Epoch 8/50\n",
      "3/3 [==============================] - 0s 841us/step - loss: 0.0515\n",
      "Epoch 9/50\n",
      "3/3 [==============================] - 0s 829us/step - loss: 0.0526\n",
      "Epoch 10/50\n",
      "3/3 [==============================] - 0s 879us/step - loss: 0.0457\n",
      "Epoch 11/50\n",
      "3/3 [==============================] - 0s 885us/step - loss: 0.0509\n",
      "Epoch 12/50\n",
      "3/3 [==============================] - 0s 898us/step - loss: 0.0720\n",
      "Epoch 13/50\n",
      "3/3 [==============================] - 0s 944us/step - loss: 0.0820\n",
      "Epoch 14/50\n",
      "3/3 [==============================] - 0s 815us/step - loss: 0.0697\n",
      "Epoch 15/50\n",
      "3/3 [==============================] - 0s 902us/step - loss: 0.0534\n",
      "Epoch 16/50\n",
      "3/3 [==============================] - 0s 880us/step - loss: 0.0652\n",
      "Epoch 17/50\n",
      "3/3 [==============================] - 0s 844us/step - loss: 0.0529\n",
      "Epoch 18/50\n",
      "3/3 [==============================] - 0s 1ms/step - loss: 0.0550\n",
      "Epoch 19/50\n",
      "3/3 [==============================] - 0s 1ms/step - loss: 0.0496\n",
      "Epoch 20/50\n",
      "3/3 [==============================] - 0s 993us/step - loss: 0.0747\n",
      "Epoch 21/50\n",
      "3/3 [==============================] - 0s 975us/step - loss: 0.0543\n",
      "Epoch 22/50\n",
      "3/3 [==============================] - 0s 833us/step - loss: 0.0330\n",
      "Epoch 23/50\n",
      "3/3 [==============================] - 0s 957us/step - loss: 0.0497\n",
      "Epoch 24/50\n",
      "3/3 [==============================] - 0s 966us/step - loss: 0.0636\n",
      "Epoch 25/50\n",
      "3/3 [==============================] - 0s 916us/step - loss: 0.0726\n",
      "Epoch 26/50\n",
      "3/3 [==============================] - 0s 905us/step - loss: 0.0354\n",
      "Epoch 27/50\n",
      "3/3 [==============================] - 0s 807us/step - loss: 0.0513\n",
      "Epoch 28/50\n",
      "3/3 [==============================] - 0s 932us/step - loss: 0.0475\n",
      "Epoch 29/50\n",
      "3/3 [==============================] - 0s 1ms/step - loss: 0.0706\n",
      "Epoch 30/50\n",
      "3/3 [==============================] - 0s 980us/step - loss: 0.0710\n",
      "Epoch 31/50\n",
      "3/3 [==============================] - 0s 852us/step - loss: 0.0383\n",
      "Epoch 32/50\n",
      "3/3 [==============================] - 0s 845us/step - loss: 0.0628\n",
      "Epoch 33/50\n",
      "3/3 [==============================] - 0s 1ms/step - loss: 0.0532\n",
      "Epoch 34/50\n",
      "3/3 [==============================] - 0s 1ms/step - loss: 0.0625\n",
      "Epoch 35/50\n",
      "3/3 [==============================] - 0s 847us/step - loss: 0.0461\n",
      "Epoch 36/50\n",
      "3/3 [==============================] - 0s 797us/step - loss: 0.0453\n",
      "Epoch 37/50\n",
      "3/3 [==============================] - 0s 921us/step - loss: 0.0723\n",
      "Epoch 38/50\n",
      "3/3 [==============================] - 0s 1ms/step - loss: 0.0637\n",
      "Epoch 39/50\n",
      "3/3 [==============================] - 0s 1ms/step - loss: 0.0534\n",
      "Epoch 40/50\n",
      "3/3 [==============================] - 0s 832us/step - loss: 0.0594\n",
      "Epoch 41/50\n",
      "3/3 [==============================] - 0s 872us/step - loss: 0.0591\n",
      "Epoch 42/50\n",
      "3/3 [==============================] - 0s 953us/step - loss: 0.0409\n",
      "Epoch 43/50\n",
      "3/3 [==============================] - 0s 877us/step - loss: 0.0490\n",
      "Epoch 44/50\n",
      "3/3 [==============================] - 0s 1ms/step - loss: 0.0473\n",
      "Epoch 45/50\n",
      "3/3 [==============================] - 0s 903us/step - loss: 0.0484\n",
      "Epoch 46/50\n",
      "3/3 [==============================] - 0s 841us/step - loss: 0.0383\n",
      "Epoch 47/50\n",
      "3/3 [==============================] - 0s 1ms/step - loss: 0.0276\n",
      "Epoch 48/50\n",
      "3/3 [==============================] - 0s 774us/step - loss: 0.0287\n",
      "Epoch 49/50\n",
      "3/3 [==============================] - 0s 853us/step - loss: 0.0311\n",
      "Epoch 50/50\n",
      "3/3 [==============================] - 0s 922us/step - loss: 0.0413\n"
     ]
    }
   ],
   "source": [
    "history = model.fit(x, y, batch_size=2, epochs=50, validation_freq=1)"
   ]
  },
  {
   "cell_type": "code",
   "execution_count": 9,
   "id": "50e9e0e1",
   "metadata": {},
   "outputs": [
    {
     "data": {
      "text/plain": [
       "[array([[2.1094275]], dtype=float32), array([0.5266427], dtype=float32)]"
      ]
     },
     "execution_count": 9,
     "metadata": {},
     "output_type": "execute_result"
    }
   ],
   "source": [
    "model.get_layer('single-layer').get_weights()"
   ]
  },
  {
   "cell_type": "code",
   "execution_count": 10,
   "id": "3debf37b",
   "metadata": {},
   "outputs": [
    {
     "data": {
      "text/plain": [
       "array([[ 6.854925],\n",
       "       [17.402061],\n",
       "       [21.620916]], dtype=float32)"
      ]
     },
     "execution_count": 10,
     "metadata": {},
     "output_type": "execute_result"
    }
   ],
   "source": [
    "model.predict([3, 8, 10])"
   ]
  }
 ],
 "metadata": {
  "kernelspec": {
   "display_name": "Python 3",
   "language": "python",
   "name": "python3"
  },
  "language_info": {
   "codemirror_mode": {
    "name": "ipython",
    "version": 3
   },
   "file_extension": ".py",
   "mimetype": "text/x-python",
   "name": "python",
   "nbconvert_exporter": "python",
   "pygments_lexer": "ipython3",
   "version": "3.6.13"
  }
 },
 "nbformat": 4,
 "nbformat_minor": 5
}
